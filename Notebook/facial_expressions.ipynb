{
  "nbformat": 4,
  "nbformat_minor": 5,
  "metadata": {
    "kernelspec": {
      "display_name": "Python 3",
      "language": "python",
      "name": "python3"
    },
    "language_info": {
      "codemirror_mode": {
        "name": "ipython",
        "version": 3
      },
      "file_extension": ".py",
      "mimetype": "text/x-python",
      "name": "python",
      "nbconvert_exporter": "python",
      "pygments_lexer": "ipython3",
      "version": "3.7.10"
    },
    "papermill": {
      "default_parameters": {},
      "duration": 1033.406225,
      "end_time": "2021-07-03T13:00:27.574855",
      "environment_variables": {},
      "exception": null,
      "input_path": "__notebook__.ipynb",
      "output_path": "__notebook__.ipynb",
      "parameters": {},
      "start_time": "2021-07-03T12:43:14.168630",
      "version": "2.3.3"
    },
    "colab": {
      "name": "facial-expressions.ipynb",
      "provenance": [],
      "include_colab_link": true
    },
    "accelerator": "GPU"
  },
  "cells": [
    {
      "cell_type": "markdown",
      "metadata": {
        "id": "view-in-github",
        "colab_type": "text"
      },
      "source": [
        "<a href=\"https://colab.research.google.com/github/babuus/Identity-and-Emotion-detection/blob/master/Notebook/facial_expressions.ipynb\" target=\"_parent\"><img src=\"https://colab.research.google.com/assets/colab-badge.svg\" alt=\"Open In Colab\"/></a>"
      ]
    },
    {
      "cell_type": "markdown",
      "metadata": {
        "id": "kLl2h3MiMxKC"
      },
      "source": [
        "# **Data Collection**"
      ],
      "id": "kLl2h3MiMxKC"
    },
    {
      "cell_type": "code",
      "metadata": {
        "colab": {
          "resources": {
            "http://localhost:8080/nbextensions/google.colab/files.js": {
              "data": "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",
              "ok": true,
              "headers": [
                [
                  "content-type",
                  "application/javascript"
                ]
              ],
              "status": 200,
              "status_text": ""
            }
          },
          "base_uri": "https://localhost:8080/",
          "height": 91
        },
        "id": "WWxI-dEKtV5a",
        "outputId": "522d02ee-3ada-48fa-a210-1b0eca0af2a0"
      },
      "source": [
        "#uploading Kaggle.json\n",
        "from google.colab import files\n",
        "files.upload()"
      ],
      "id": "WWxI-dEKtV5a",
      "execution_count": null,
      "outputs": [
        {
          "output_type": "display_data",
          "data": {
            "text/html": [
              "\n",
              "     <input type=\"file\" id=\"files-c3644c4e-2663-4080-a83b-96be87cfb79d\" name=\"files[]\" multiple disabled\n",
              "        style=\"border:none\" />\n",
              "     <output id=\"result-c3644c4e-2663-4080-a83b-96be87cfb79d\">\n",
              "      Upload widget is only available when the cell has been executed in the\n",
              "      current browser session. Please rerun this cell to enable.\n",
              "      </output>\n",
              "      <script src=\"/nbextensions/google.colab/files.js\"></script> "
            ],
            "text/plain": [
              "<IPython.core.display.HTML object>"
            ]
          },
          "metadata": {
            "tags": []
          }
        },
        {
          "output_type": "stream",
          "text": [
            "Saving kaggle.json to kaggle.json\n"
          ],
          "name": "stdout"
        },
        {
          "output_type": "execute_result",
          "data": {
            "text/plain": [
              "{'kaggle.json': b'{\"username\":\"babuus\",\"key\":\"8d8c3864d8bc1568f7b7841b4a66314d\"}'}"
            ]
          },
          "metadata": {
            "tags": []
          },
          "execution_count": 1
        }
      ]
    },
    {
      "cell_type": "code",
      "metadata": {
        "colab": {
          "base_uri": "https://localhost:8080/"
        },
        "id": "q7Ijc-DRtV2s",
        "outputId": "e7be7efb-1a72-4e59-e13b-2b13fead0648"
      },
      "source": [
        "#Download dataset from kaggle\n",
        "%%bash\n",
        "cp kaggle.json ~/.kaggle/\n",
        "chmod 600 ~/.kaggle/kaggle.json\n",
        "mkdir ZIP\n",
        "cd ZIP\n",
        "kaggle competitions download -c challenges-in-representation-learning-facial-expression-recognition-challenge"
      ],
      "id": "q7Ijc-DRtV2s",
      "execution_count": null,
      "outputs": [
        {
          "output_type": "stream",
          "text": [
            "Warning: Looks like you're using an outdated API Version, please consider updating (server 1.5.12 / client 1.5.4)\n",
            "Downloading train.csv.zip to /content/ZIP\n",
            "\n",
            "Downloading icml_face_data.csv.zip to /content/ZIP\n",
            "\n",
            "Downloading example_submission.csv to /content/ZIP\n",
            "\n",
            "Downloading fer2013.tar.gz to /content/ZIP\n",
            "\n",
            "Downloading test.csv.zip to /content/ZIP\n",
            "\n"
          ],
          "name": "stdout"
        },
        {
          "output_type": "stream",
          "text": [
            "mkdir: cannot create directory ‘ZIP’: File exists\n",
            "\r  0%|          | 0.00/77.3M [00:00<?, ?B/s]\r 19%|#9        | 15.0M/77.3M [00:00<00:00, 154MB/s]\r 36%|###6      | 28.0M/77.3M [00:00<00:00, 148MB/s]\r 70%|######9   | 54.0M/77.3M [00:00<00:00, 171MB/s]\r100%|##########| 77.3M/77.3M [00:00<00:00, 192MB/s]\n",
            "\r  0%|          | 0.00/96.6M [00:00<?, ?B/s]\r  8%|8         | 8.00M/96.6M [00:00<00:01, 80.3MB/s]\r 37%|###7      | 36.0M/96.6M [00:00<00:00, 102MB/s] \r 55%|#####4    | 53.0M/96.6M [00:00<00:00, 116MB/s]\r 79%|#######8  | 76.0M/96.6M [00:00<00:00, 137MB/s]\r100%|##########| 96.6M/96.6M [00:00<00:00, 196MB/s]\n",
            "\r  0%|          | 0.00/7.01k [00:00<?, ?B/s]\r100%|##########| 7.01k/7.01k [00:00<00:00, 7.24MB/s]\n",
            "\r  0%|          | 0.00/92.0M [00:00<?, ?B/s]\r  5%|5         | 5.00M/92.0M [00:00<00:03, 28.9MB/s]\r 33%|###2      | 30.0M/92.0M [00:00<00:01, 39.3MB/s]\r 53%|#####3    | 49.0M/92.0M [00:00<00:00, 45.2MB/s]\r 79%|#######9  | 73.0M/92.0M [00:00<00:00, 59.9MB/s]\r 99%|#########8| 91.0M/92.0M [00:00<00:00, 75.2MB/s]\r100%|##########| 92.0M/92.0M [00:00<00:00, 118MB/s] \n",
            "\r  0%|          | 0.00/19.3M [00:00<?, ?B/s]\r 52%|#####1    | 10.0M/19.3M [00:00<00:00, 104MB/s]\r100%|##########| 19.3M/19.3M [00:00<00:00, 124MB/s]\n"
          ],
          "name": "stderr"
        }
      ]
    },
    {
      "cell_type": "markdown",
      "metadata": {
        "papermill": {
          "duration": 0.021384,
          "end_time": "2021-07-03T12:43:20.808145",
          "exception": false,
          "start_time": "2021-07-03T12:43:20.786761",
          "status": "completed"
        },
        "tags": [],
        "id": "daily-lying"
      },
      "source": [
        "# **Facial Expression Recognition**"
      ],
      "id": "daily-lying"
    },
    {
      "cell_type": "code",
      "metadata": {
        "execution": {
          "iopub.execute_input": "2021-07-03T12:43:20.860649Z",
          "iopub.status.busy": "2021-07-03T12:43:20.860002Z",
          "iopub.status.idle": "2021-07-03T12:43:26.640801Z",
          "shell.execute_reply": "2021-07-03T12:43:26.639843Z",
          "shell.execute_reply.started": "2021-07-03T12:21:30.116203Z"
        },
        "papermill": {
          "duration": 5.812323,
          "end_time": "2021-07-03T12:43:26.640962",
          "exception": false,
          "start_time": "2021-07-03T12:43:20.828639",
          "status": "completed"
        },
        "tags": [],
        "id": "regulated-heather"
      },
      "source": [
        "# Libraries\n",
        "\n",
        "import numpy as np\n",
        "import pandas as pd\n",
        "pd.options.mode.chained_assignment = None\n",
        "\n",
        "import matplotlib.pyplot as plt\n",
        "import seaborn as sns\n",
        "\n",
        "import tensorflow as tf\n",
        "from tensorflow import keras\n",
        "from keras.models import Model\n",
        "from keras.layers import Input,Conv2D,MaxPooling2D,Flatten,Dropout,BatchNormalization,Dense\n",
        "from keras.preprocessing.image import ImageDataGenerator as Imgen\n",
        "from keras.callbacks import EarlyStopping,ModelCheckpoint\n",
        "\n",
        "from sklearn.metrics import confusion_matrix,classification_report"
      ],
      "id": "regulated-heather",
      "execution_count": null,
      "outputs": []
    },
    {
      "cell_type": "code",
      "metadata": {
        "execution": {
          "iopub.status.busy": "2021-06-16T18:22:47.523763Z",
          "iopub.execute_input": "2021-06-16T18:22:47.524350Z",
          "iopub.status.idle": "2021-06-16T18:22:52.449971Z",
          "shell.execute_reply.started": "2021-06-16T18:22:47.524306Z",
          "shell.execute_reply": "2021-06-16T18:22:52.449216Z"
        },
        "trusted": true,
        "colab": {
          "base_uri": "https://localhost:8080/"
        },
        "id": "Ntq8iBUkyv1I",
        "outputId": "f6ebe428-86d9-40c9-fd80-3ee7d0509c03"
      },
      "source": [
        "path = '/content/ZIP/'\n",
        "!unzip \"/content/ZIP/icml_face_data.csv.zip\" -d \"/content/ZIP\""
      ],
      "id": "Ntq8iBUkyv1I",
      "execution_count": null,
      "outputs": [
        {
          "output_type": "stream",
          "text": [
            "Archive:  /content/ZIP/icml_face_data.csv.zip\n",
            "  inflating: /content/ZIP/icml_face_data.csv  \n"
          ],
          "name": "stdout"
        }
      ]
    },
    {
      "cell_type": "markdown",
      "metadata": {
        "papermill": {
          "duration": 0.021419,
          "end_time": "2021-07-03T12:43:26.683086",
          "exception": false,
          "start_time": "2021-07-03T12:43:26.661667",
          "status": "completed"
        },
        "tags": [],
        "id": "sharing-wedding"
      },
      "source": [
        "## **Reading and Organiing Data**"
      ],
      "id": "sharing-wedding"
    },
    {
      "cell_type": "code",
      "metadata": {
        "execution": {
          "iopub.execute_input": "2021-07-03T12:43:26.730660Z",
          "iopub.status.busy": "2021-07-03T12:43:26.730086Z",
          "iopub.status.idle": "2021-07-03T12:43:31.555484Z",
          "shell.execute_reply": "2021-07-03T12:43:31.555875Z",
          "shell.execute_reply.started": "2021-07-03T12:21:34.012111Z"
        },
        "papermill": {
          "duration": 4.852251,
          "end_time": "2021-07-03T12:43:31.556022",
          "exception": false,
          "start_time": "2021-07-03T12:43:26.703771",
          "status": "completed"
        },
        "tags": [],
        "colab": {
          "base_uri": "https://localhost:8080/",
          "height": 203
        },
        "id": "hearing-phrase",
        "outputId": "d4a640ca-e2b2-4ac0-eb6c-8191a68a87af"
      },
      "source": [
        "# reading the data\n",
        "data = pd.read_csv(\"/content/ZIP/icml_face_data.csv\")\n",
        "data.head()"
      ],
      "id": "hearing-phrase",
      "execution_count": null,
      "outputs": [
        {
          "output_type": "execute_result",
          "data": {
            "text/html": [
              "<div>\n",
              "<style scoped>\n",
              "    .dataframe tbody tr th:only-of-type {\n",
              "        vertical-align: middle;\n",
              "    }\n",
              "\n",
              "    .dataframe tbody tr th {\n",
              "        vertical-align: top;\n",
              "    }\n",
              "\n",
              "    .dataframe thead th {\n",
              "        text-align: right;\n",
              "    }\n",
              "</style>\n",
              "<table border=\"1\" class=\"dataframe\">\n",
              "  <thead>\n",
              "    <tr style=\"text-align: right;\">\n",
              "      <th></th>\n",
              "      <th>emotion</th>\n",
              "      <th>Usage</th>\n",
              "      <th>pixels</th>\n",
              "    </tr>\n",
              "  </thead>\n",
              "  <tbody>\n",
              "    <tr>\n",
              "      <th>0</th>\n",
              "      <td>0</td>\n",
              "      <td>Training</td>\n",
              "      <td>70 80 82 72 58 58 60 63 54 58 60 48 89 115 121...</td>\n",
              "    </tr>\n",
              "    <tr>\n",
              "      <th>1</th>\n",
              "      <td>0</td>\n",
              "      <td>Training</td>\n",
              "      <td>151 150 147 155 148 133 111 140 170 174 182 15...</td>\n",
              "    </tr>\n",
              "    <tr>\n",
              "      <th>2</th>\n",
              "      <td>2</td>\n",
              "      <td>Training</td>\n",
              "      <td>231 212 156 164 174 138 161 173 182 200 106 38...</td>\n",
              "    </tr>\n",
              "    <tr>\n",
              "      <th>3</th>\n",
              "      <td>4</td>\n",
              "      <td>Training</td>\n",
              "      <td>24 32 36 30 32 23 19 20 30 41 21 22 32 34 21 1...</td>\n",
              "    </tr>\n",
              "    <tr>\n",
              "      <th>4</th>\n",
              "      <td>6</td>\n",
              "      <td>Training</td>\n",
              "      <td>4 0 0 0 0 0 0 0 0 0 0 0 3 15 23 28 48 50 58 84...</td>\n",
              "    </tr>\n",
              "  </tbody>\n",
              "</table>\n",
              "</div>"
            ],
            "text/plain": [
              "   emotion     Usage                                             pixels\n",
              "0        0  Training  70 80 82 72 58 58 60 63 54 58 60 48 89 115 121...\n",
              "1        0  Training  151 150 147 155 148 133 111 140 170 174 182 15...\n",
              "2        2  Training  231 212 156 164 174 138 161 173 182 200 106 38...\n",
              "3        4  Training  24 32 36 30 32 23 19 20 30 41 21 22 32 34 21 1...\n",
              "4        6  Training  4 0 0 0 0 0 0 0 0 0 0 0 3 15 23 28 48 50 58 84..."
            ]
          },
          "metadata": {
            "tags": []
          },
          "execution_count": 6
        }
      ]
    },
    {
      "cell_type": "code",
      "metadata": {
        "execution": {
          "iopub.execute_input": "2021-07-03T12:43:31.602981Z",
          "iopub.status.busy": "2021-07-03T12:43:31.601717Z",
          "iopub.status.idle": "2021-07-03T12:43:31.604064Z",
          "shell.execute_reply": "2021-07-03T12:43:31.604474Z",
          "shell.execute_reply.started": "2021-07-03T12:21:39.119578Z"
        },
        "papermill": {
          "duration": 0.027608,
          "end_time": "2021-07-03T12:43:31.604602",
          "exception": false,
          "start_time": "2021-07-03T12:43:31.576994",
          "status": "completed"
        },
        "tags": [],
        "id": "smaller-appointment"
      },
      "source": [
        "cols = [\"emotion\",\"subset\",\"pixels\"]\n",
        "data.columns = cols\n",
        "data.columns\n",
        "\n",
        "emotions = ['Angry','Disgust','Fear','Happy','Sad','Surprise','Neutral']"
      ],
      "id": "smaller-appointment",
      "execution_count": null,
      "outputs": []
    },
    {
      "cell_type": "code",
      "metadata": {
        "execution": {
          "iopub.execute_input": "2021-07-03T12:43:31.659874Z",
          "iopub.status.busy": "2021-07-03T12:43:31.659032Z",
          "iopub.status.idle": "2021-07-03T12:43:31.664632Z",
          "shell.execute_reply": "2021-07-03T12:43:31.664163Z",
          "shell.execute_reply.started": "2021-07-03T12:21:39.129295Z"
        },
        "papermill": {
          "duration": 0.039545,
          "end_time": "2021-07-03T12:43:31.664733",
          "exception": false,
          "start_time": "2021-07-03T12:43:31.625188",
          "status": "completed"
        },
        "tags": [],
        "colab": {
          "base_uri": "https://localhost:8080/"
        },
        "id": "intelligent-leisure",
        "outputId": "e96c4be0-cd80-4210-ce70-65275b3c1969"
      },
      "source": [
        "print(data.subset.value_counts())\n",
        "print(data.emotion.value_counts())"
      ],
      "id": "intelligent-leisure",
      "execution_count": null,
      "outputs": [
        {
          "output_type": "stream",
          "text": [
            "Training       28709\n",
            "PrivateTest     3589\n",
            "PublicTest      3589\n",
            "Name: subset, dtype: int64\n",
            "3    8989\n",
            "6    6198\n",
            "4    6077\n",
            "2    5121\n",
            "0    4953\n",
            "5    4002\n",
            "1     547\n",
            "Name: emotion, dtype: int64\n"
          ],
          "name": "stdout"
        }
      ]
    },
    {
      "cell_type": "code",
      "metadata": {
        "execution": {
          "iopub.execute_input": "2021-07-03T12:43:31.716767Z",
          "iopub.status.busy": "2021-07-03T12:43:31.715963Z",
          "iopub.status.idle": "2021-07-03T12:43:31.731444Z",
          "shell.execute_reply": "2021-07-03T12:43:31.732013Z",
          "shell.execute_reply.started": "2021-07-03T12:21:39.151029Z"
        },
        "papermill": {
          "duration": 0.046251,
          "end_time": "2021-07-03T12:43:31.732171",
          "exception": false,
          "start_time": "2021-07-03T12:43:31.685920",
          "status": "completed"
        },
        "tags": [],
        "colab": {
          "base_uri": "https://localhost:8080/"
        },
        "id": "verified-concept",
        "outputId": "77ad1060-ca4c-451e-92fb-c2956a4f3ceb"
      },
      "source": [
        "# Splitting into train test and validate\n",
        "\n",
        "train_data = data[data[\"subset\"]==\"Training\"]\n",
        "val_data = data[data[\"subset\"]==\"PublicTest\"]\n",
        "test_data = data[data[\"subset\"]==\"PrivateTest\"]\n",
        "\n",
        "print(train_data.shape,test_data.shape,val_data.shape)"
      ],
      "id": "verified-concept",
      "execution_count": null,
      "outputs": [
        {
          "output_type": "stream",
          "text": [
            "(28709, 3) (3589, 3) (3589, 3)\n"
          ],
          "name": "stdout"
        }
      ]
    },
    {
      "cell_type": "code",
      "metadata": {
        "execution": {
          "iopub.execute_input": "2021-07-03T12:43:31.779368Z",
          "iopub.status.busy": "2021-07-03T12:43:31.778874Z",
          "iopub.status.idle": "2021-07-03T12:43:31.782610Z",
          "shell.execute_reply": "2021-07-03T12:43:31.782198Z",
          "shell.execute_reply.started": "2021-07-03T12:21:39.174547Z"
        },
        "papermill": {
          "duration": 0.02881,
          "end_time": "2021-07-03T12:43:31.782715",
          "exception": false,
          "start_time": "2021-07-03T12:43:31.753905",
          "status": "completed"
        },
        "tags": [],
        "id": "intended-stack"
      },
      "source": [
        "# to extract image data from pixel column\n",
        "\n",
        "def toPixels(pixels):\n",
        "\n",
        "    arr = np.array(pixels.split(),\"float64\")\n",
        "    return arr\n",
        "\n",
        "def reshapetoImage(data):\n",
        "\n",
        "    Images = np.reshape(data[\"pixels\"].to_list(),(data.shape[0],48,48,1))\n",
        "\n",
        "    return Images"
      ],
      "id": "intended-stack",
      "execution_count": null,
      "outputs": []
    },
    {
      "cell_type": "code",
      "metadata": {
        "execution": {
          "iopub.execute_input": "2021-07-03T12:43:31.828884Z",
          "iopub.status.busy": "2021-07-03T12:43:31.828360Z",
          "iopub.status.idle": "2021-07-03T12:43:53.328339Z",
          "shell.execute_reply": "2021-07-03T12:43:53.327898Z",
          "shell.execute_reply.started": "2021-07-03T12:21:39.181786Z"
        },
        "papermill": {
          "duration": 21.524697,
          "end_time": "2021-07-03T12:43:53.328482",
          "exception": false,
          "start_time": "2021-07-03T12:43:31.803785",
          "status": "completed"
        },
        "tags": [],
        "id": "split-confusion"
      },
      "source": [
        "train_data[\"pixels\"] = train_data[\"pixels\"].apply(toPixels)\n",
        "val_data[\"pixels\"] = val_data[\"pixels\"].apply(toPixels)\n",
        "test_data[\"pixels\"] = test_data[\"pixels\"].apply(toPixels)"
      ],
      "id": "split-confusion",
      "execution_count": null,
      "outputs": []
    },
    {
      "cell_type": "code",
      "metadata": {
        "execution": {
          "iopub.execute_input": "2021-07-03T12:43:53.378926Z",
          "iopub.status.busy": "2021-07-03T12:43:53.378181Z",
          "iopub.status.idle": "2021-07-03T12:43:53.595803Z",
          "shell.execute_reply": "2021-07-03T12:43:53.595327Z",
          "shell.execute_reply.started": "2021-07-03T12:22:01.008947Z"
        },
        "papermill": {
          "duration": 0.245888,
          "end_time": "2021-07-03T12:43:53.595932",
          "exception": false,
          "start_time": "2021-07-03T12:43:53.350044",
          "status": "completed"
        },
        "tags": [],
        "id": "vietnamese-crest"
      },
      "source": [
        "# images and labels\n",
        "\n",
        "train_images = reshapetoImage(train_data)\n",
        "val_images = reshapetoImage(val_data)\n",
        "test_images = reshapetoImage(test_data)\n",
        "\n",
        "train_labels = train_data[\"emotion\"]\n",
        "val_labels = val_data[\"emotion\"]\n",
        "test_labels = test_data[\"emotion\"]"
      ],
      "id": "vietnamese-crest",
      "execution_count": null,
      "outputs": []
    },
    {
      "cell_type": "markdown",
      "metadata": {
        "papermill": {
          "duration": 0.021653,
          "end_time": "2021-07-03T12:43:53.639862",
          "exception": false,
          "start_time": "2021-07-03T12:43:53.618209",
          "status": "completed"
        },
        "tags": [],
        "id": "advised-consultancy"
      },
      "source": [
        "### **Visualaizing some Images**"
      ],
      "id": "advised-consultancy"
    },
    {
      "cell_type": "code",
      "metadata": {
        "execution": {
          "iopub.execute_input": "2021-07-03T12:43:53.687807Z",
          "iopub.status.busy": "2021-07-03T12:43:53.687225Z",
          "iopub.status.idle": "2021-07-03T12:43:53.691129Z",
          "shell.execute_reply": "2021-07-03T12:43:53.690707Z",
          "shell.execute_reply.started": "2021-07-03T12:22:01.232558Z"
        },
        "papermill": {
          "duration": 0.029654,
          "end_time": "2021-07-03T12:43:53.691267",
          "exception": false,
          "start_time": "2021-07-03T12:43:53.661613",
          "status": "completed"
        },
        "tags": [],
        "id": "professional-testament"
      },
      "source": [
        "def plotImages(x,y):\n",
        "    plt.figure(figsize=[20,12])\n",
        "    for i in range(25):\n",
        "        plt.subplot(5,5,i+1)\n",
        "        plt.imshow(x[i],cmap=\"gray\")\n",
        "        plt.title(emotions[y[i]])\n",
        "        plt.axis(\"off\")\n",
        "    plt.show()"
      ],
      "id": "professional-testament",
      "execution_count": null,
      "outputs": []
    },
    {
      "cell_type": "code",
      "metadata": {
        "execution": {
          "iopub.execute_input": "2021-07-03T12:43:53.751874Z",
          "iopub.status.busy": "2021-07-03T12:43:53.751369Z",
          "iopub.status.idle": "2021-07-03T12:43:55.076917Z",
          "shell.execute_reply": "2021-07-03T12:43:55.077316Z",
          "shell.execute_reply.started": "2021-07-03T12:22:01.239787Z"
        },
        "papermill": {
          "duration": 1.364365,
          "end_time": "2021-07-03T12:43:55.077472",
          "exception": false,
          "start_time": "2021-07-03T12:43:53.713107",
          "status": "completed"
        },
        "tags": [],
        "id": "ordinary-reasoning"
      },
      "source": [
        "plotImages(train_images,train_labels)"
      ],
      "id": "ordinary-reasoning",
      "execution_count": null,
      "outputs": []
    },
    {
      "cell_type": "markdown",
      "metadata": {
        "papermill": {
          "duration": 0.028842,
          "end_time": "2021-07-03T12:43:55.136231",
          "exception": false,
          "start_time": "2021-07-03T12:43:55.107389",
          "status": "completed"
        },
        "tags": [],
        "id": "metric-circular"
      },
      "source": [
        "## **Image Data Generator**"
      ],
      "id": "metric-circular"
    },
    {
      "cell_type": "code",
      "metadata": {
        "execution": {
          "iopub.execute_input": "2021-07-03T12:43:55.199675Z",
          "iopub.status.busy": "2021-07-03T12:43:55.198986Z",
          "iopub.status.idle": "2021-07-03T12:43:55.201778Z",
          "shell.execute_reply": "2021-07-03T12:43:55.201249Z",
          "shell.execute_reply.started": "2021-07-03T12:22:02.514612Z"
        },
        "papermill": {
          "duration": 0.036536,
          "end_time": "2021-07-03T12:43:55.201881",
          "exception": false,
          "start_time": "2021-07-03T12:43:55.165345",
          "status": "completed"
        },
        "tags": [],
        "id": "appreciated-theta"
      },
      "source": [
        "trainGen = Imgen(rescale=1./255,\n",
        "                 zoom_range=0.2,\n",
        "                 shear_range=0.2,\n",
        "                 horizontal_flip=True\n",
        "                 )\n",
        "valGen = Imgen(rescale=1./255,\n",
        "                 zoom_range=0.2,\n",
        "                 shear_range=0.2,\n",
        "                 horizontal_flip=True\n",
        "               )\n",
        "testGen = Imgen(rescale=1./255)"
      ],
      "id": "appreciated-theta",
      "execution_count": null,
      "outputs": []
    },
    {
      "cell_type": "code",
      "metadata": {
        "execution": {
          "iopub.execute_input": "2021-07-03T12:43:55.266367Z",
          "iopub.status.busy": "2021-07-03T12:43:55.265249Z",
          "iopub.status.idle": "2021-07-03T12:43:55.398659Z",
          "shell.execute_reply": "2021-07-03T12:43:55.398030Z",
          "shell.execute_reply.started": "2021-07-03T12:22:02.522616Z"
        },
        "papermill": {
          "duration": 0.168038,
          "end_time": "2021-07-03T12:43:55.398825",
          "exception": false,
          "start_time": "2021-07-03T12:43:55.230787",
          "status": "completed"
        },
        "tags": [],
        "id": "activated-arlington"
      },
      "source": [
        "trainds = trainGen.flow(train_images,train_labels,\n",
        "                   batch_size = 32\n",
        "                   )\n",
        "\n",
        "valds = valGen.flow(val_images,val_labels,\n",
        "               batch_size = 32\n",
        "               )\n",
        "\n",
        "testds = testGen.flow(test_images,test_labels,\n",
        "                      batch_size=32,\n",
        "                      shuffle=False)"
      ],
      "id": "activated-arlington",
      "execution_count": null,
      "outputs": []
    },
    {
      "cell_type": "markdown",
      "metadata": {
        "papermill": {
          "duration": 0.028782,
          "end_time": "2021-07-03T12:43:55.457582",
          "exception": false,
          "start_time": "2021-07-03T12:43:55.428800",
          "status": "completed"
        },
        "tags": [],
        "id": "flush-novelty"
      },
      "source": [
        "**One batch**"
      ],
      "id": "flush-novelty"
    },
    {
      "cell_type": "code",
      "metadata": {
        "execution": {
          "iopub.execute_input": "2021-07-03T12:43:55.521196Z",
          "iopub.status.busy": "2021-07-03T12:43:55.520101Z",
          "iopub.status.idle": "2021-07-03T12:43:57.024014Z",
          "shell.execute_reply": "2021-07-03T12:43:57.025024Z",
          "shell.execute_reply.started": "2021-07-03T12:22:02.661911Z"
        },
        "papermill": {
          "duration": 1.538788,
          "end_time": "2021-07-03T12:43:57.025224",
          "exception": false,
          "start_time": "2021-07-03T12:43:55.486436",
          "status": "completed"
        },
        "tags": [],
        "id": "moved-prophet"
      },
      "source": [
        "# one batch\n",
        "x,y = next(trainds)\n",
        "\n",
        "# see \n",
        "plotImages(x,y)"
      ],
      "id": "moved-prophet",
      "execution_count": null,
      "outputs": []
    },
    {
      "cell_type": "markdown",
      "metadata": {
        "papermill": {
          "duration": 0.060634,
          "end_time": "2021-07-03T12:43:57.146302",
          "exception": false,
          "start_time": "2021-07-03T12:43:57.085668",
          "status": "completed"
        },
        "tags": [],
        "id": "dutch-stocks"
      },
      "source": [
        "## **Model**"
      ],
      "id": "dutch-stocks"
    },
    {
      "cell_type": "code",
      "metadata": {
        "execution": {
          "iopub.execute_input": "2021-07-03T12:43:57.280517Z",
          "iopub.status.busy": "2021-07-03T12:43:57.279764Z",
          "iopub.status.idle": "2021-07-03T12:43:59.730774Z",
          "shell.execute_reply": "2021-07-03T12:43:59.731347Z",
          "shell.execute_reply.started": "2021-07-03T12:22:03.973482Z"
        },
        "papermill": {
          "duration": 2.523612,
          "end_time": "2021-07-03T12:43:59.731536",
          "exception": false,
          "start_time": "2021-07-03T12:43:57.207924",
          "status": "completed"
        },
        "tags": [],
        "colab": {
          "base_uri": "https://localhost:8080/"
        },
        "id": "appreciated-friend",
        "outputId": "433f2931-2bab-4746-f131-906789195ecd"
      },
      "source": [
        "# Model\n",
        "image_input = Input(shape=(48,48,1))\n",
        "\n",
        "x = Conv2D(64,(3,3), activation=\"relu\")(image_input)\n",
        "x = BatchNormalization()(x)\n",
        "x = MaxPooling2D((2,2))(x)\n",
        "x = Dropout(0.3)(x)\n",
        "\n",
        "x = Conv2D(128,(3,3),activation=\"relu\")(x)\n",
        "x = BatchNormalization()(x)\n",
        "x = MaxPooling2D((2,2))(x)\n",
        "x = Dropout(0.3)(x)\n",
        "\n",
        "x = Conv2D(512,(3,3),activation=\"relu\")(x)\n",
        "x = BatchNormalization()(x)\n",
        "x = MaxPooling2D((2,2))(x)\n",
        "x = Dropout(0.3)(x)\n",
        "\n",
        "x = Conv2D(512,(3,3),activation=\"relu\")(x)\n",
        "x = BatchNormalization()(x)\n",
        "x = MaxPooling2D((2,2))(x)\n",
        "x = Dropout(0.3)(x)\n",
        "\n",
        "x = Flatten()(x)\n",
        "\n",
        "x = Dense(512,activation=\"relu\")(x)\n",
        "x = BatchNormalization()(x)\n",
        "x = Dropout(0.5)(x)\n",
        "\n",
        "x = Dense(256,activation=\"relu\")(x)\n",
        "x = BatchNormalization()(x)\n",
        "x = Dropout(0.5)(x)\n",
        "\n",
        "image_output = Dense(7,activation=\"softmax\")(x)\n",
        "\n",
        "model = Model(image_input,image_output)\n",
        "\n",
        "print(model.summary())"
      ],
      "id": "appreciated-friend",
      "execution_count": null,
      "outputs": [
        {
          "output_type": "stream",
          "text": [
            "Model: \"model\"\n",
            "_________________________________________________________________\n",
            "Layer (type)                 Output Shape              Param #   \n",
            "=================================================================\n",
            "input_1 (InputLayer)         [(None, 48, 48, 1)]       0         \n",
            "_________________________________________________________________\n",
            "conv2d (Conv2D)              (None, 46, 46, 64)        640       \n",
            "_________________________________________________________________\n",
            "batch_normalization (BatchNo (None, 46, 46, 64)        256       \n",
            "_________________________________________________________________\n",
            "max_pooling2d (MaxPooling2D) (None, 23, 23, 64)        0         \n",
            "_________________________________________________________________\n",
            "dropout (Dropout)            (None, 23, 23, 64)        0         \n",
            "_________________________________________________________________\n",
            "conv2d_1 (Conv2D)            (None, 21, 21, 128)       73856     \n",
            "_________________________________________________________________\n",
            "batch_normalization_1 (Batch (None, 21, 21, 128)       512       \n",
            "_________________________________________________________________\n",
            "max_pooling2d_1 (MaxPooling2 (None, 10, 10, 128)       0         \n",
            "_________________________________________________________________\n",
            "dropout_1 (Dropout)          (None, 10, 10, 128)       0         \n",
            "_________________________________________________________________\n",
            "conv2d_2 (Conv2D)            (None, 8, 8, 512)         590336    \n",
            "_________________________________________________________________\n",
            "batch_normalization_2 (Batch (None, 8, 8, 512)         2048      \n",
            "_________________________________________________________________\n",
            "max_pooling2d_2 (MaxPooling2 (None, 4, 4, 512)         0         \n",
            "_________________________________________________________________\n",
            "dropout_2 (Dropout)          (None, 4, 4, 512)         0         \n",
            "_________________________________________________________________\n",
            "conv2d_3 (Conv2D)            (None, 2, 2, 512)         2359808   \n",
            "_________________________________________________________________\n",
            "batch_normalization_3 (Batch (None, 2, 2, 512)         2048      \n",
            "_________________________________________________________________\n",
            "max_pooling2d_3 (MaxPooling2 (None, 1, 1, 512)         0         \n",
            "_________________________________________________________________\n",
            "dropout_3 (Dropout)          (None, 1, 1, 512)         0         \n",
            "_________________________________________________________________\n",
            "flatten (Flatten)            (None, 512)               0         \n",
            "_________________________________________________________________\n",
            "dense (Dense)                (None, 512)               262656    \n",
            "_________________________________________________________________\n",
            "batch_normalization_4 (Batch (None, 512)               2048      \n",
            "_________________________________________________________________\n",
            "dropout_4 (Dropout)          (None, 512)               0         \n",
            "_________________________________________________________________\n",
            "dense_1 (Dense)              (None, 256)               131328    \n",
            "_________________________________________________________________\n",
            "batch_normalization_5 (Batch (None, 256)               1024      \n",
            "_________________________________________________________________\n",
            "dropout_5 (Dropout)          (None, 256)               0         \n",
            "_________________________________________________________________\n",
            "dense_2 (Dense)              (None, 7)                 1799      \n",
            "=================================================================\n",
            "Total params: 3,428,359\n",
            "Trainable params: 3,424,391\n",
            "Non-trainable params: 3,968\n",
            "_________________________________________________________________\n",
            "None\n"
          ],
          "name": "stdout"
        }
      ]
    },
    {
      "cell_type": "code",
      "metadata": {
        "execution": {
          "iopub.execute_input": "2021-07-03T12:43:59.816465Z",
          "iopub.status.busy": "2021-07-03T12:43:59.815935Z",
          "iopub.status.idle": "2021-07-03T12:43:59.823992Z",
          "shell.execute_reply": "2021-07-03T12:43:59.824398Z",
          "shell.execute_reply.started": "2021-07-03T12:22:06.009767Z"
        },
        "papermill": {
          "duration": 0.055539,
          "end_time": "2021-07-03T12:43:59.824530",
          "exception": false,
          "start_time": "2021-07-03T12:43:59.768991",
          "status": "completed"
        },
        "tags": [],
        "colab": {
          "base_uri": "https://localhost:8080/"
        },
        "id": "attractive-leone",
        "outputId": "40ea6349-a004-4b8f-a96a-c185c4434b67"
      },
      "source": [
        "# Compile the model\n",
        "print(\"Compiling the Model....\")\n",
        "model.compile(optimizer='adam',loss = 'sparse_categorical_crossentropy', metrics=[\"accuracy\"])\n",
        "print(\"Model Compiled!\")"
      ],
      "id": "attractive-leone",
      "execution_count": null,
      "outputs": [
        {
          "output_type": "stream",
          "text": [
            "Compiling the Model....\n",
            "Model Compiled!\n"
          ],
          "name": "stdout"
        }
      ]
    },
    {
      "cell_type": "code",
      "metadata": {
        "execution": {
          "iopub.execute_input": "2021-07-03T12:43:59.902633Z",
          "iopub.status.busy": "2021-07-03T12:43:59.902106Z",
          "iopub.status.idle": "2021-07-03T12:43:59.905485Z",
          "shell.execute_reply": "2021-07-03T12:43:59.905911Z",
          "shell.execute_reply.started": "2021-07-03T12:22:06.030384Z"
        },
        "papermill": {
          "duration": 0.044582,
          "end_time": "2021-07-03T12:43:59.906032",
          "exception": false,
          "start_time": "2021-07-03T12:43:59.861450",
          "status": "completed"
        },
        "tags": [],
        "id": "yellow-rotation"
      },
      "source": [
        "# Defining callbacks\n",
        "my_calls = [EarlyStopping(monitor='val_accuracy',patience=5),\n",
        "            ModelCheckpoint(\"Model_ethnicity.h5\",verbose=1,save_best_only=True)]"
      ],
      "id": "yellow-rotation",
      "execution_count": null,
      "outputs": []
    },
    {
      "cell_type": "markdown",
      "metadata": {
        "papermill": {
          "duration": 0.037207,
          "end_time": "2021-07-03T12:43:59.979409",
          "exception": false,
          "start_time": "2021-07-03T12:43:59.942202",
          "status": "completed"
        },
        "tags": [],
        "id": "independent-antigua"
      },
      "source": [
        "**Train**"
      ],
      "id": "independent-antigua"
    },
    {
      "cell_type": "code",
      "metadata": {
        "execution": {
          "iopub.execute_input": "2021-07-03T12:44:00.057810Z",
          "iopub.status.busy": "2021-07-03T12:44:00.057279Z",
          "iopub.status.idle": "2021-07-03T12:58:56.604537Z",
          "shell.execute_reply": "2021-07-03T12:58:56.604948Z",
          "shell.execute_reply.started": "2021-07-03T12:22:06.036379Z"
        },
        "papermill": {
          "duration": 896.589144,
          "end_time": "2021-07-03T12:58:56.605123",
          "exception": false,
          "start_time": "2021-07-03T12:44:00.015979",
          "status": "completed"
        },
        "tags": [],
        "colab": {
          "base_uri": "https://localhost:8080/"
        },
        "id": "constitutional-moldova",
        "outputId": "2f05f77f-17c8-4223-b2a0-d0d85602873e"
      },
      "source": [
        "hist = model.fit(trainds, epochs=40, validation_data=valds, callbacks=my_calls)"
      ],
      "id": "constitutional-moldova",
      "execution_count": null,
      "outputs": [
        {
          "output_type": "stream",
          "text": [
            "Epoch 1/40\n",
            "898/898 [==============================] - 45s 16ms/step - loss: 2.4002 - accuracy: 0.2014 - val_loss: 1.6838 - val_accuracy: 0.3675\n",
            "\n",
            "Epoch 00001: val_loss improved from inf to 1.68382, saving model to Model_ethnicity.h5\n",
            "Epoch 2/40\n",
            "898/898 [==============================] - 15s 16ms/step - loss: 1.6459 - accuracy: 0.3578 - val_loss: 1.6433 - val_accuracy: 0.3689\n",
            "\n",
            "Epoch 00002: val_loss improved from 1.68382 to 1.64329, saving model to Model_ethnicity.h5\n",
            "Epoch 3/40\n",
            "898/898 [==============================] - 14s 16ms/step - loss: 1.5041 - accuracy: 0.4174 - val_loss: 1.5048 - val_accuracy: 0.4235\n",
            "\n",
            "Epoch 00003: val_loss improved from 1.64329 to 1.50477, saving model to Model_ethnicity.h5\n",
            "Epoch 4/40\n",
            "898/898 [==============================] - 14s 16ms/step - loss: 1.4214 - accuracy: 0.4555 - val_loss: 1.5279 - val_accuracy: 0.4104\n",
            "\n",
            "Epoch 00004: val_loss did not improve from 1.50477\n",
            "Epoch 5/40\n",
            "898/898 [==============================] - 14s 15ms/step - loss: 1.3720 - accuracy: 0.4790 - val_loss: 1.3194 - val_accuracy: 0.4896\n",
            "\n",
            "Epoch 00005: val_loss improved from 1.50477 to 1.31942, saving model to Model_ethnicity.h5\n",
            "Epoch 6/40\n",
            "898/898 [==============================] - 15s 16ms/step - loss: 1.3133 - accuracy: 0.4958 - val_loss: 1.2710 - val_accuracy: 0.5166\n",
            "\n",
            "Epoch 00006: val_loss improved from 1.31942 to 1.27102, saving model to Model_ethnicity.h5\n",
            "Epoch 7/40\n",
            "898/898 [==============================] - 15s 16ms/step - loss: 1.3015 - accuracy: 0.5057 - val_loss: 1.4107 - val_accuracy: 0.4508\n",
            "\n",
            "Epoch 00007: val_loss did not improve from 1.27102\n",
            "Epoch 8/40\n",
            "898/898 [==============================] - 14s 16ms/step - loss: 1.2750 - accuracy: 0.5152 - val_loss: 1.3682 - val_accuracy: 0.4753\n",
            "\n",
            "Epoch 00008: val_loss did not improve from 1.27102\n",
            "Epoch 9/40\n",
            "898/898 [==============================] - 14s 15ms/step - loss: 1.2624 - accuracy: 0.5225 - val_loss: 1.2520 - val_accuracy: 0.5169\n",
            "\n",
            "Epoch 00009: val_loss improved from 1.27102 to 1.25202, saving model to Model_ethnicity.h5\n",
            "Epoch 10/40\n",
            "898/898 [==============================] - 14s 16ms/step - loss: 1.2207 - accuracy: 0.5421 - val_loss: 1.2197 - val_accuracy: 0.5339\n",
            "\n",
            "Epoch 00010: val_loss improved from 1.25202 to 1.21974, saving model to Model_ethnicity.h5\n",
            "Epoch 11/40\n",
            "898/898 [==============================] - 15s 16ms/step - loss: 1.1984 - accuracy: 0.5517 - val_loss: 1.1800 - val_accuracy: 0.5508\n",
            "\n",
            "Epoch 00011: val_loss improved from 1.21974 to 1.18004, saving model to Model_ethnicity.h5\n",
            "Epoch 12/40\n",
            "898/898 [==============================] - 15s 16ms/step - loss: 1.2042 - accuracy: 0.5462 - val_loss: 1.2945 - val_accuracy: 0.5166\n",
            "\n",
            "Epoch 00012: val_loss did not improve from 1.18004\n",
            "Epoch 13/40\n",
            "898/898 [==============================] - 15s 16ms/step - loss: 1.1961 - accuracy: 0.5471 - val_loss: 1.3452 - val_accuracy: 0.4954\n",
            "\n",
            "Epoch 00013: val_loss did not improve from 1.18004\n",
            "Epoch 14/40\n",
            "898/898 [==============================] - 15s 16ms/step - loss: 1.1805 - accuracy: 0.5568 - val_loss: 1.4641 - val_accuracy: 0.5043\n",
            "\n",
            "Epoch 00014: val_loss did not improve from 1.18004\n",
            "Epoch 15/40\n",
            "898/898 [==============================] - 14s 16ms/step - loss: 1.1669 - accuracy: 0.5626 - val_loss: 1.1679 - val_accuracy: 0.5603\n",
            "\n",
            "Epoch 00015: val_loss improved from 1.18004 to 1.16788, saving model to Model_ethnicity.h5\n",
            "Epoch 16/40\n",
            "898/898 [==============================] - 14s 15ms/step - loss: 1.1522 - accuracy: 0.5671 - val_loss: 1.3894 - val_accuracy: 0.4784\n",
            "\n",
            "Epoch 00016: val_loss did not improve from 1.16788\n",
            "Epoch 17/40\n",
            "898/898 [==============================] - 14s 15ms/step - loss: 1.1454 - accuracy: 0.5679 - val_loss: 1.3407 - val_accuracy: 0.4935\n",
            "\n",
            "Epoch 00017: val_loss did not improve from 1.16788\n",
            "Epoch 18/40\n",
            "898/898 [==============================] - 15s 16ms/step - loss: 1.1327 - accuracy: 0.5728 - val_loss: 1.2473 - val_accuracy: 0.5400\n",
            "\n",
            "Epoch 00018: val_loss did not improve from 1.16788\n",
            "Epoch 19/40\n",
            "898/898 [==============================] - 14s 16ms/step - loss: 1.1057 - accuracy: 0.5863 - val_loss: 1.0943 - val_accuracy: 0.5807\n",
            "\n",
            "Epoch 00019: val_loss improved from 1.16788 to 1.09429, saving model to Model_ethnicity.h5\n",
            "Epoch 20/40\n",
            "898/898 [==============================] - 14s 16ms/step - loss: 1.0931 - accuracy: 0.5860 - val_loss: 1.1057 - val_accuracy: 0.5756\n",
            "\n",
            "Epoch 00020: val_loss did not improve from 1.09429\n",
            "Epoch 21/40\n",
            "898/898 [==============================] - 14s 15ms/step - loss: 1.1039 - accuracy: 0.5876 - val_loss: 1.6635 - val_accuracy: 0.4890\n",
            "\n",
            "Epoch 00021: val_loss did not improve from 1.09429\n",
            "Epoch 22/40\n",
            "898/898 [==============================] - 14s 16ms/step - loss: 1.0843 - accuracy: 0.5954 - val_loss: 1.0709 - val_accuracy: 0.5996\n",
            "\n",
            "Epoch 00022: val_loss improved from 1.09429 to 1.07087, saving model to Model_ethnicity.h5\n",
            "Epoch 23/40\n",
            "898/898 [==============================] - 15s 16ms/step - loss: 1.0631 - accuracy: 0.6029 - val_loss: 1.1004 - val_accuracy: 0.5834\n",
            "\n",
            "Epoch 00023: val_loss did not improve from 1.07087\n",
            "Epoch 24/40\n",
            "898/898 [==============================] - 14s 16ms/step - loss: 1.0674 - accuracy: 0.6017 - val_loss: 1.0813 - val_accuracy: 0.5957\n",
            "\n",
            "Epoch 00024: val_loss did not improve from 1.07087\n",
            "Epoch 25/40\n",
            "898/898 [==============================] - 14s 15ms/step - loss: 1.0670 - accuracy: 0.5998 - val_loss: 1.0557 - val_accuracy: 0.5999\n",
            "\n",
            "Epoch 00025: val_loss improved from 1.07087 to 1.05569, saving model to Model_ethnicity.h5\n",
            "Epoch 26/40\n",
            "898/898 [==============================] - 14s 15ms/step - loss: 1.0421 - accuracy: 0.6145 - val_loss: 1.2079 - val_accuracy: 0.5589\n",
            "\n",
            "Epoch 00026: val_loss did not improve from 1.05569\n",
            "Epoch 27/40\n",
            "898/898 [==============================] - 15s 16ms/step - loss: 1.0400 - accuracy: 0.6128 - val_loss: 1.1061 - val_accuracy: 0.5879\n",
            "\n",
            "Epoch 00027: val_loss did not improve from 1.05569\n",
            "Epoch 28/40\n",
            "898/898 [==============================] - 15s 16ms/step - loss: 1.0269 - accuracy: 0.6167 - val_loss: 1.0299 - val_accuracy: 0.6133\n",
            "\n",
            "Epoch 00028: val_loss improved from 1.05569 to 1.02993, saving model to Model_ethnicity.h5\n",
            "Epoch 29/40\n",
            "898/898 [==============================] - 14s 16ms/step - loss: 1.0235 - accuracy: 0.6118 - val_loss: 1.0339 - val_accuracy: 0.6021\n",
            "\n",
            "Epoch 00029: val_loss did not improve from 1.02993\n",
            "Epoch 30/40\n",
            "898/898 [==============================] - 14s 16ms/step - loss: 1.0239 - accuracy: 0.6210 - val_loss: 1.0247 - val_accuracy: 0.6177\n",
            "\n",
            "Epoch 00030: val_loss improved from 1.02993 to 1.02467, saving model to Model_ethnicity.h5\n",
            "Epoch 31/40\n",
            "898/898 [==============================] - 15s 17ms/step - loss: 1.0136 - accuracy: 0.6241 - val_loss: 1.0402 - val_accuracy: 0.6183\n",
            "\n",
            "Epoch 00031: val_loss did not improve from 1.02467\n",
            "Epoch 32/40\n",
            "898/898 [==============================] - 15s 16ms/step - loss: 1.0002 - accuracy: 0.6288 - val_loss: 1.0783 - val_accuracy: 0.5907\n",
            "\n",
            "Epoch 00032: val_loss did not improve from 1.02467\n",
            "Epoch 33/40\n",
            "898/898 [==============================] - 14s 16ms/step - loss: 1.0050 - accuracy: 0.6274 - val_loss: 1.1187 - val_accuracy: 0.5804\n",
            "\n",
            "Epoch 00033: val_loss did not improve from 1.02467\n",
            "Epoch 34/40\n",
            "898/898 [==============================] - 15s 16ms/step - loss: 1.0157 - accuracy: 0.6194 - val_loss: 1.0344 - val_accuracy: 0.6155\n",
            "\n",
            "Epoch 00034: val_loss did not improve from 1.02467\n",
            "Epoch 35/40\n",
            "898/898 [==============================] - 14s 16ms/step - loss: 1.0546 - accuracy: 0.6077 - val_loss: 1.0540 - val_accuracy: 0.6080\n",
            "\n",
            "Epoch 00035: val_loss did not improve from 1.02467\n",
            "Epoch 36/40\n",
            "898/898 [==============================] - 14s 15ms/step - loss: 0.9966 - accuracy: 0.6306 - val_loss: 1.0595 - val_accuracy: 0.6032\n",
            "\n",
            "Epoch 00036: val_loss did not improve from 1.02467\n"
          ],
          "name": "stdout"
        }
      ]
    },
    {
      "cell_type": "markdown",
      "metadata": {
        "papermill": {
          "duration": 3.452582,
          "end_time": "2021-07-03T12:59:03.696629",
          "exception": false,
          "start_time": "2021-07-03T12:59:00.244047",
          "status": "completed"
        },
        "tags": [],
        "id": "funny-scroll"
      },
      "source": [
        "**Test**"
      ],
      "id": "funny-scroll"
    },
    {
      "cell_type": "code",
      "metadata": {
        "execution": {
          "iopub.execute_input": "2021-07-03T12:59:10.541861Z",
          "iopub.status.busy": "2021-07-03T12:59:10.540975Z",
          "iopub.status.idle": "2021-07-03T12:59:13.281973Z",
          "shell.execute_reply": "2021-07-03T12:59:13.280725Z",
          "shell.execute_reply.started": "2021-07-03T12:35:24.472600Z"
        },
        "papermill": {
          "duration": 6.146677,
          "end_time": "2021-07-03T12:59:13.282116",
          "exception": false,
          "start_time": "2021-07-03T12:59:07.135439",
          "status": "completed"
        },
        "tags": [],
        "id": "substantial-announcement",
        "outputId": "8a22e4e6-a430-4a9b-f218-5fdc46a67d32"
      },
      "source": [
        "model.evaluate(testds)"
      ],
      "id": "substantial-announcement",
      "execution_count": null,
      "outputs": [
        {
          "output_type": "stream",
          "text": [
            "113/113 [==============================] - 3s 24ms/step - loss: 0.9962 - accuracy: 0.6317\n"
          ],
          "name": "stdout"
        },
        {
          "output_type": "execute_result",
          "data": {
            "text/plain": [
              "[0.9962337613105774, 0.631652295589447]"
            ]
          },
          "metadata": {
            "tags": []
          },
          "execution_count": 18
        }
      ]
    },
    {
      "cell_type": "markdown",
      "metadata": {
        "papermill": {
          "duration": 3.416252,
          "end_time": "2021-07-03T12:59:20.602073",
          "exception": false,
          "start_time": "2021-07-03T12:59:17.185821",
          "status": "completed"
        },
        "tags": [],
        "id": "municipal-surge"
      },
      "source": [
        "**Graph**"
      ],
      "id": "municipal-surge"
    },
    {
      "cell_type": "code",
      "metadata": {
        "execution": {
          "iopub.execute_input": "2021-07-03T12:59:27.841983Z",
          "iopub.status.busy": "2021-07-03T12:59:27.829352Z",
          "iopub.status.idle": "2021-07-03T12:59:28.095632Z",
          "shell.execute_reply": "2021-07-03T12:59:28.096027Z",
          "shell.execute_reply.started": "2021-07-03T12:37:19.554028Z"
        },
        "papermill": {
          "duration": 3.77963,
          "end_time": "2021-07-03T12:59:28.096164",
          "exception": false,
          "start_time": "2021-07-03T12:59:24.316534",
          "status": "completed"
        },
        "tags": [],
        "colab": {
          "base_uri": "https://localhost:8080/",
          "height": 390
        },
        "id": "phantom-blake",
        "outputId": "9dc058de-fc96-4574-9fe5-4f29c7a5e2e0"
      },
      "source": [
        "plt.figure(figsize=(15,6))\n",
        "\n",
        "plt.subplot(1,2,1)\n",
        "plt.plot(hist.epoch,hist.history['accuracy'],label = 'Training')\n",
        "plt.plot(hist.epoch,hist.history['val_accuracy'],label = 'validation')\n",
        "\n",
        "plt.title(\"Accuracy\")\n",
        "plt.legend()\n",
        "\n",
        "plt.subplot(1,2,2)\n",
        "plt.plot(hist.epoch,hist.history['loss'],label = 'Training')\n",
        "plt.plot(hist.epoch,hist.history['val_loss'],label = 'validation')\n",
        "\n",
        "plt.title(\"Loss\")\n",
        "plt.legend()\n",
        "plt.show()\n"
      ],
      "id": "phantom-blake",
      "execution_count": null,
      "outputs": [
        {
          "output_type": "display_data",
          "data": {
            "image/png": "[encoded data removed]",
            "text/plain": [
              "<Figure size 1080x432 with 2 Axes>"
            ]
          },
          "metadata": {
            "tags": [],
            "needs_background": "light"
          }
        }
      ]
    },
    {
      "cell_type": "markdown",
      "metadata": {
        "papermill": {
          "duration": 3.722086,
          "end_time": "2021-07-03T12:59:35.244743",
          "exception": false,
          "start_time": "2021-07-03T12:59:31.522657",
          "status": "completed"
        },
        "tags": [],
        "id": "embedded-concert"
      },
      "source": [
        "## **Predictions**"
      ],
      "id": "embedded-concert"
    },
    {
      "cell_type": "code",
      "metadata": {
        "execution": {
          "iopub.execute_input": "2021-07-03T12:59:42.131442Z",
          "iopub.status.busy": "2021-07-03T12:59:42.130550Z",
          "iopub.status.idle": "2021-07-03T12:59:44.697725Z",
          "shell.execute_reply": "2021-07-03T12:59:44.696817Z",
          "shell.execute_reply.started": "2021-07-03T12:38:04.788618Z"
        },
        "papermill": {
          "duration": 6.026124,
          "end_time": "2021-07-03T12:59:44.697872",
          "exception": false,
          "start_time": "2021-07-03T12:59:38.671748",
          "status": "completed"
        },
        "tags": [],
        "id": "broken-hands"
      },
      "source": [
        "pred = model.predict(testds)"
      ],
      "id": "broken-hands",
      "execution_count": null,
      "outputs": []
    },
    {
      "cell_type": "code",
      "metadata": {
        "execution": {
          "iopub.execute_input": "2021-07-03T12:59:52.085414Z",
          "iopub.status.busy": "2021-07-03T12:59:52.081178Z",
          "iopub.status.idle": "2021-07-03T12:59:52.097214Z",
          "shell.execute_reply": "2021-07-03T12:59:52.097597Z",
          "shell.execute_reply.started": "2021-07-03T12:40:07.404004Z"
        },
        "papermill": {
          "duration": 3.476963,
          "end_time": "2021-07-03T12:59:52.097738",
          "exception": false,
          "start_time": "2021-07-03T12:59:48.620775",
          "status": "completed"
        },
        "tags": [],
        "id": "enclosed-edition"
      },
      "source": [
        "pred = [np.argmax(i) for i in pred]"
      ],
      "id": "enclosed-edition",
      "execution_count": null,
      "outputs": []
    },
    {
      "cell_type": "code",
      "metadata": {
        "execution": {
          "iopub.execute_input": "2021-07-03T12:59:59.212320Z",
          "iopub.status.busy": "2021-07-03T12:59:59.210627Z",
          "iopub.status.idle": "2021-07-03T12:59:59.212985Z",
          "shell.execute_reply": "2021-07-03T12:59:59.213366Z",
          "shell.execute_reply.started": "2021-07-03T12:40:44.748927Z"
        },
        "papermill": {
          "duration": 3.431253,
          "end_time": "2021-07-03T12:59:59.213518",
          "exception": false,
          "start_time": "2021-07-03T12:59:55.782265",
          "status": "completed"
        },
        "tags": [],
        "id": "square-plenty"
      },
      "source": [
        "y_test = np.array(test_labels)"
      ],
      "id": "square-plenty",
      "execution_count": null,
      "outputs": []
    },
    {
      "cell_type": "code",
      "metadata": {
        "execution": {
          "iopub.execute_input": "2021-07-03T13:00:06.366158Z",
          "iopub.status.busy": "2021-07-03T13:00:06.365315Z",
          "iopub.status.idle": "2021-07-03T13:00:06.377897Z",
          "shell.execute_reply": "2021-07-03T13:00:06.378301Z",
          "shell.execute_reply.started": "2021-07-03T12:41:02.086596Z"
        },
        "papermill": {
          "duration": 3.655568,
          "end_time": "2021-07-03T13:00:06.378449",
          "exception": false,
          "start_time": "2021-07-03T13:00:02.722881",
          "status": "completed"
        },
        "tags": [],
        "colab": {
          "base_uri": "https://localhost:8080/"
        },
        "id": "furnished-equivalent",
        "outputId": "236b47a1-8f62-4a55-fc3f-cbca35308a6e"
      },
      "source": [
        "print(classification_report(y_test,pred))"
      ],
      "id": "furnished-equivalent",
      "execution_count": null,
      "outputs": [
        {
          "output_type": "stream",
          "text": [
            "              precision    recall  f1-score   support\n",
            "\n",
            "           0       0.57      0.56      0.56       491\n",
            "           1       0.61      0.56      0.58        55\n",
            "           2       0.60      0.29      0.39       528\n",
            "           3       0.80      0.90      0.85       879\n",
            "           4       0.57      0.43      0.49       594\n",
            "           5       0.74      0.76      0.75       416\n",
            "           6       0.51      0.77      0.61       626\n",
            "\n",
            "    accuracy                           0.64      3589\n",
            "   macro avg       0.63      0.61      0.61      3589\n",
            "weighted avg       0.64      0.64      0.63      3589\n",
            "\n"
          ],
          "name": "stdout"
        }
      ]
    },
    {
      "cell_type": "code",
      "metadata": {
        "execution": {
          "iopub.execute_input": "2021-07-03T13:00:13.306693Z",
          "iopub.status.busy": "2021-07-03T13:00:13.305910Z",
          "iopub.status.idle": "2021-07-03T13:00:13.730608Z",
          "shell.execute_reply": "2021-07-03T13:00:13.731243Z",
          "shell.execute_reply.started": "2021-07-03T12:42:12.806147Z"
        },
        "papermill": {
          "duration": 3.93687,
          "end_time": "2021-07-03T13:00:13.731417",
          "exception": false,
          "start_time": "2021-07-03T13:00:09.794547",
          "status": "completed"
        },
        "tags": [],
        "colab": {
          "base_uri": "https://localhost:8080/",
          "height": 809
        },
        "id": "affected-circular",
        "outputId": "b19488dc-54ce-4982-e46b-aa558408f99b"
      },
      "source": [
        "plt.figure(figsize=[20,14])\n",
        "sns.heatmap(confusion_matrix(y_test,pred),annot = True, fmt= \"d\", cmap = \"Blues\");"
      ],
      "id": "affected-circular",
      "execution_count": null,
      "outputs": [
        {
          "output_type": "display_data",
          "data": {
            "image/png": "[encoded data removed]",
            "text/plain": [
              "<Figure size 1440x1008 with 2 Axes>"
            ]
          },
          "metadata": {
            "tags": [],
            "needs_background": "light"
          }
        }
      ]
    },
    {
      "cell_type": "code",
      "metadata": {
        "id": "wEcGEYXT9D2g"
      },
      "source": [
        "model1 = keras.models.load_model('/content/Model_ethnicity.h5')"
      ],
      "id": "wEcGEYXT9D2g",
      "execution_count": null,
      "outputs": []
    },
    {
      "cell_type": "code",
      "metadata": {
        "colab": {
          "base_uri": "https://localhost:8080/"
        },
        "id": "qq1Fg4GLSZ5j",
        "outputId": "e37b7905-13f9-4ba0-ef63-7b63f5e3c171"
      },
      "source": [
        "import cv2 as cv\n",
        "img = cv.imread(\"/content/pexels-maxime-francis-2246476.jpg\")\n",
        "gray = cv.cvtColor(img, cv.COLOR_BGR2GRAY)\n",
        "face = cv.resize(gray, (48,48)) \n",
        "face = face/255.0 \n",
        "face.shape\n",
        "predictions = model1.predict(np.array([face.reshape((48,48,1))])).argmax()\n",
        "predictions, emotions[predictions]"
      ],
      "id": "qq1Fg4GLSZ5j",
      "execution_count": null,
      "outputs": [
        {
          "output_type": "execute_result",
          "data": {
            "text/plain": [
              "(6, 'Neutral')"
            ]
          },
          "metadata": {
            "tags": []
          },
          "execution_count": 42
        }
      ]
    },
    {
      "cell_type": "code",
      "metadata": {
        "papermill": {
          "duration": 3.977902,
          "end_time": "2021-07-03T13:00:21.372190",
          "exception": false,
          "start_time": "2021-07-03T13:00:17.394288",
          "status": "completed"
        },
        "tags": [],
        "colab": {
          "base_uri": "https://localhost:8080/"
        },
        "id": "fleet-harmony",
        "outputId": "d49bb545-d667-4c18-df72-6f6b44204aed"
      },
      "source": [
        "testds[0][0].shape"
      ],
      "id": "fleet-harmony",
      "execution_count": null,
      "outputs": [
        {
          "output_type": "execute_result",
          "data": {
            "text/plain": [
              "(32, 48, 48, 1)"
            ]
          },
          "metadata": {
            "tags": []
          },
          "execution_count": 34
        }
      ]
    }
  ]
}